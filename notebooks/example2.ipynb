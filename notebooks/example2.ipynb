{
 "cells": [
  {
   "cell_type": "markdown",
   "id": "f59c0ba3",
   "metadata": {},
   "source": [
    "# Test Notebook for Jupytext"
   ]
  },
  {
   "cell_type": "markdown",
   "id": "3f07a97d",
   "metadata": {},
   "source": [
    "Describe the purpose of the code here"
   ]
  },
  {
   "cell_type": "markdown",
   "id": "5cf9fbdf",
   "metadata": {},
   "source": [
    "# Import the Libraries"
   ]
  },
  {
   "cell_type": "code",
   "execution_count": null,
   "id": "856ec7e1",
   "metadata": {},
   "outputs": [],
   "source": [
    "import os"
   ]
  },
  {
   "cell_type": "code",
   "execution_count": null,
   "id": "eb03d821",
   "metadata": {},
   "outputs": [],
   "source": [
    "import numpy as np\n",
    "import pandas as pd"
   ]
  },
  {
   "cell_type": "markdown",
   "id": "87d2339f",
   "metadata": {},
   "source": [
    "# Example code"
   ]
  },
  {
   "cell_type": "code",
   "execution_count": null,
   "id": "e8829eb6",
   "metadata": {
    "lines_to_next_cell": 2
   },
   "outputs": [],
   "source": [
    "os.listdir()"
   ]
  },
  {
   "cell_type": "code",
   "execution_count": null,
   "id": "158e7b47",
   "metadata": {
    "lines_to_next_cell": 2
   },
   "outputs": [],
   "source": [
    "d = {\"col1\": [1, 2], \"col2\": [3, 4]}\n",
    "df = pd.DataFrame(data=d)"
   ]
  },
  {
   "cell_type": "code",
   "execution_count": null,
   "id": "07bc92b9",
   "metadata": {
    "lines_to_next_cell": 2
   },
   "outputs": [],
   "source": [
    "df"
   ]
  },
  {
   "cell_type": "code",
   "execution_count": null,
   "id": "f5ba000b",
   "metadata": {},
   "outputs": [],
   "source": [
    "print(np.pi)"
   ]
  }
 ],
 "metadata": {
  "kernelspec": {
   "display_name": ".venv",
   "language": "python",
   "name": "python3"
  }
 },
 "nbformat": 4,
 "nbformat_minor": 5
}
